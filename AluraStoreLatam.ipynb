{
  "nbformat": 4,
  "nbformat_minor": 0,
  "metadata": {
    "colab": {
      "provenance": []
    },
    "kernelspec": {
      "name": "python3",
      "display_name": "Python 3"
    },
    "language_info": {
      "name": "python"
    }
  },
  "cells": [
    {
      "cell_type": "markdown",
      "source": [
        "### Importación de datos\n",
        "\n"
      ],
      "metadata": {
        "id": "RhEdWd9YUR6H"
      }
    },
    {
      "cell_type": "code",
      "execution_count": 1,
      "metadata": {
        "colab": {
          "base_uri": "https://localhost:8080/",
          "height": 293
        },
        "id": "T3EvaeQ_INIL",
        "outputId": "dad2edbf-2c4d-415a-ffb5-75f1538330cc"
      },
      "outputs": [
        {
          "output_type": "execute_result",
          "data": {
            "text/plain": [
              "            Producto Categoría del Producto    Precio  Costo de envío  \\\n",
              "0  Asistente virtual           Electrónicos  164300.0          6900.0   \n",
              "1    Mesa de comedor                Muebles  192300.0          8400.0   \n",
              "2      Juego de mesa               Juguetes  209600.0         15900.0   \n",
              "3         Microondas      Electrodomésticos  757500.0         41000.0   \n",
              "4   Silla de oficina                Muebles  335200.0         20200.0   \n",
              "\n",
              "  Fecha de Compra         Vendedor Lugar de Compra  Calificación  \\\n",
              "0      16/01/2021      Pedro Gomez          Bogotá             4   \n",
              "1      18/05/2022  Beatriz Morales        Medellín             1   \n",
              "2      15/03/2021   Juan Fernandez       Cartagena             1   \n",
              "3      03/05/2022   Juan Fernandez            Cali             4   \n",
              "4      07/11/2020    Maria Alfonso        Medellín             5   \n",
              "\n",
              "       Método de pago  Cantidad de cuotas       lat       lon  \n",
              "0  Tarjeta de crédito                   8   4.60971 -74.08175  \n",
              "1  Tarjeta de crédito                   4   6.25184 -75.56359  \n",
              "2  Tarjeta de crédito                   1  10.39972 -75.51444  \n",
              "3               Nequi                   1   3.43722 -76.52250  \n",
              "4               Nequi                   1   6.25184 -75.56359  "
            ],
            "text/html": [
              "\n",
              "  <div id=\"df-7070978e-a8fe-49b8-9eea-012c6f1377f1\" class=\"colab-df-container\">\n",
              "    <div>\n",
              "<style scoped>\n",
              "    .dataframe tbody tr th:only-of-type {\n",
              "        vertical-align: middle;\n",
              "    }\n",
              "\n",
              "    .dataframe tbody tr th {\n",
              "        vertical-align: top;\n",
              "    }\n",
              "\n",
              "    .dataframe thead th {\n",
              "        text-align: right;\n",
              "    }\n",
              "</style>\n",
              "<table border=\"1\" class=\"dataframe\">\n",
              "  <thead>\n",
              "    <tr style=\"text-align: right;\">\n",
              "      <th></th>\n",
              "      <th>Producto</th>\n",
              "      <th>Categoría del Producto</th>\n",
              "      <th>Precio</th>\n",
              "      <th>Costo de envío</th>\n",
              "      <th>Fecha de Compra</th>\n",
              "      <th>Vendedor</th>\n",
              "      <th>Lugar de Compra</th>\n",
              "      <th>Calificación</th>\n",
              "      <th>Método de pago</th>\n",
              "      <th>Cantidad de cuotas</th>\n",
              "      <th>lat</th>\n",
              "      <th>lon</th>\n",
              "    </tr>\n",
              "  </thead>\n",
              "  <tbody>\n",
              "    <tr>\n",
              "      <th>0</th>\n",
              "      <td>Asistente virtual</td>\n",
              "      <td>Electrónicos</td>\n",
              "      <td>164300.0</td>\n",
              "      <td>6900.0</td>\n",
              "      <td>16/01/2021</td>\n",
              "      <td>Pedro Gomez</td>\n",
              "      <td>Bogotá</td>\n",
              "      <td>4</td>\n",
              "      <td>Tarjeta de crédito</td>\n",
              "      <td>8</td>\n",
              "      <td>4.60971</td>\n",
              "      <td>-74.08175</td>\n",
              "    </tr>\n",
              "    <tr>\n",
              "      <th>1</th>\n",
              "      <td>Mesa de comedor</td>\n",
              "      <td>Muebles</td>\n",
              "      <td>192300.0</td>\n",
              "      <td>8400.0</td>\n",
              "      <td>18/05/2022</td>\n",
              "      <td>Beatriz Morales</td>\n",
              "      <td>Medellín</td>\n",
              "      <td>1</td>\n",
              "      <td>Tarjeta de crédito</td>\n",
              "      <td>4</td>\n",
              "      <td>6.25184</td>\n",
              "      <td>-75.56359</td>\n",
              "    </tr>\n",
              "    <tr>\n",
              "      <th>2</th>\n",
              "      <td>Juego de mesa</td>\n",
              "      <td>Juguetes</td>\n",
              "      <td>209600.0</td>\n",
              "      <td>15900.0</td>\n",
              "      <td>15/03/2021</td>\n",
              "      <td>Juan Fernandez</td>\n",
              "      <td>Cartagena</td>\n",
              "      <td>1</td>\n",
              "      <td>Tarjeta de crédito</td>\n",
              "      <td>1</td>\n",
              "      <td>10.39972</td>\n",
              "      <td>-75.51444</td>\n",
              "    </tr>\n",
              "    <tr>\n",
              "      <th>3</th>\n",
              "      <td>Microondas</td>\n",
              "      <td>Electrodomésticos</td>\n",
              "      <td>757500.0</td>\n",
              "      <td>41000.0</td>\n",
              "      <td>03/05/2022</td>\n",
              "      <td>Juan Fernandez</td>\n",
              "      <td>Cali</td>\n",
              "      <td>4</td>\n",
              "      <td>Nequi</td>\n",
              "      <td>1</td>\n",
              "      <td>3.43722</td>\n",
              "      <td>-76.52250</td>\n",
              "    </tr>\n",
              "    <tr>\n",
              "      <th>4</th>\n",
              "      <td>Silla de oficina</td>\n",
              "      <td>Muebles</td>\n",
              "      <td>335200.0</td>\n",
              "      <td>20200.0</td>\n",
              "      <td>07/11/2020</td>\n",
              "      <td>Maria Alfonso</td>\n",
              "      <td>Medellín</td>\n",
              "      <td>5</td>\n",
              "      <td>Nequi</td>\n",
              "      <td>1</td>\n",
              "      <td>6.25184</td>\n",
              "      <td>-75.56359</td>\n",
              "    </tr>\n",
              "  </tbody>\n",
              "</table>\n",
              "</div>\n",
              "    <div class=\"colab-df-buttons\">\n",
              "\n",
              "  <div class=\"colab-df-container\">\n",
              "    <button class=\"colab-df-convert\" onclick=\"convertToInteractive('df-7070978e-a8fe-49b8-9eea-012c6f1377f1')\"\n",
              "            title=\"Convert this dataframe to an interactive table.\"\n",
              "            style=\"display:none;\">\n",
              "\n",
              "  <svg xmlns=\"http://www.w3.org/2000/svg\" height=\"24px\" viewBox=\"0 -960 960 960\">\n",
              "    <path d=\"M120-120v-720h720v720H120Zm60-500h600v-160H180v160Zm220 220h160v-160H400v160Zm0 220h160v-160H400v160ZM180-400h160v-160H180v160Zm440 0h160v-160H620v160ZM180-180h160v-160H180v160Zm440 0h160v-160H620v160Z\"/>\n",
              "  </svg>\n",
              "    </button>\n",
              "\n",
              "  <style>\n",
              "    .colab-df-container {\n",
              "      display:flex;\n",
              "      gap: 12px;\n",
              "    }\n",
              "\n",
              "    .colab-df-convert {\n",
              "      background-color: #E8F0FE;\n",
              "      border: none;\n",
              "      border-radius: 50%;\n",
              "      cursor: pointer;\n",
              "      display: none;\n",
              "      fill: #1967D2;\n",
              "      height: 32px;\n",
              "      padding: 0 0 0 0;\n",
              "      width: 32px;\n",
              "    }\n",
              "\n",
              "    .colab-df-convert:hover {\n",
              "      background-color: #E2EBFA;\n",
              "      box-shadow: 0px 1px 2px rgba(60, 64, 67, 0.3), 0px 1px 3px 1px rgba(60, 64, 67, 0.15);\n",
              "      fill: #174EA6;\n",
              "    }\n",
              "\n",
              "    .colab-df-buttons div {\n",
              "      margin-bottom: 4px;\n",
              "    }\n",
              "\n",
              "    [theme=dark] .colab-df-convert {\n",
              "      background-color: #3B4455;\n",
              "      fill: #D2E3FC;\n",
              "    }\n",
              "\n",
              "    [theme=dark] .colab-df-convert:hover {\n",
              "      background-color: #434B5C;\n",
              "      box-shadow: 0px 1px 3px 1px rgba(0, 0, 0, 0.15);\n",
              "      filter: drop-shadow(0px 1px 2px rgba(0, 0, 0, 0.3));\n",
              "      fill: #FFFFFF;\n",
              "    }\n",
              "  </style>\n",
              "\n",
              "    <script>\n",
              "      const buttonEl =\n",
              "        document.querySelector('#df-7070978e-a8fe-49b8-9eea-012c6f1377f1 button.colab-df-convert');\n",
              "      buttonEl.style.display =\n",
              "        google.colab.kernel.accessAllowed ? 'block' : 'none';\n",
              "\n",
              "      async function convertToInteractive(key) {\n",
              "        const element = document.querySelector('#df-7070978e-a8fe-49b8-9eea-012c6f1377f1');\n",
              "        const dataTable =\n",
              "          await google.colab.kernel.invokeFunction('convertToInteractive',\n",
              "                                                    [key], {});\n",
              "        if (!dataTable) return;\n",
              "\n",
              "        const docLinkHtml = 'Like what you see? Visit the ' +\n",
              "          '<a target=\"_blank\" href=https://colab.research.google.com/notebooks/data_table.ipynb>data table notebook</a>'\n",
              "          + ' to learn more about interactive tables.';\n",
              "        element.innerHTML = '';\n",
              "        dataTable['output_type'] = 'display_data';\n",
              "        await google.colab.output.renderOutput(dataTable, element);\n",
              "        const docLink = document.createElement('div');\n",
              "        docLink.innerHTML = docLinkHtml;\n",
              "        element.appendChild(docLink);\n",
              "      }\n",
              "    </script>\n",
              "  </div>\n",
              "\n",
              "\n",
              "    <div id=\"df-a999eaae-35dd-4f7e-9d8b-490562a2881a\">\n",
              "      <button class=\"colab-df-quickchart\" onclick=\"quickchart('df-a999eaae-35dd-4f7e-9d8b-490562a2881a')\"\n",
              "                title=\"Suggest charts\"\n",
              "                style=\"display:none;\">\n",
              "\n",
              "<svg xmlns=\"http://www.w3.org/2000/svg\" height=\"24px\"viewBox=\"0 0 24 24\"\n",
              "     width=\"24px\">\n",
              "    <g>\n",
              "        <path d=\"M19 3H5c-1.1 0-2 .9-2 2v14c0 1.1.9 2 2 2h14c1.1 0 2-.9 2-2V5c0-1.1-.9-2-2-2zM9 17H7v-7h2v7zm4 0h-2V7h2v10zm4 0h-2v-4h2v4z\"/>\n",
              "    </g>\n",
              "</svg>\n",
              "      </button>\n",
              "\n",
              "<style>\n",
              "  .colab-df-quickchart {\n",
              "      --bg-color: #E8F0FE;\n",
              "      --fill-color: #1967D2;\n",
              "      --hover-bg-color: #E2EBFA;\n",
              "      --hover-fill-color: #174EA6;\n",
              "      --disabled-fill-color: #AAA;\n",
              "      --disabled-bg-color: #DDD;\n",
              "  }\n",
              "\n",
              "  [theme=dark] .colab-df-quickchart {\n",
              "      --bg-color: #3B4455;\n",
              "      --fill-color: #D2E3FC;\n",
              "      --hover-bg-color: #434B5C;\n",
              "      --hover-fill-color: #FFFFFF;\n",
              "      --disabled-bg-color: #3B4455;\n",
              "      --disabled-fill-color: #666;\n",
              "  }\n",
              "\n",
              "  .colab-df-quickchart {\n",
              "    background-color: var(--bg-color);\n",
              "    border: none;\n",
              "    border-radius: 50%;\n",
              "    cursor: pointer;\n",
              "    display: none;\n",
              "    fill: var(--fill-color);\n",
              "    height: 32px;\n",
              "    padding: 0;\n",
              "    width: 32px;\n",
              "  }\n",
              "\n",
              "  .colab-df-quickchart:hover {\n",
              "    background-color: var(--hover-bg-color);\n",
              "    box-shadow: 0 1px 2px rgba(60, 64, 67, 0.3), 0 1px 3px 1px rgba(60, 64, 67, 0.15);\n",
              "    fill: var(--button-hover-fill-color);\n",
              "  }\n",
              "\n",
              "  .colab-df-quickchart-complete:disabled,\n",
              "  .colab-df-quickchart-complete:disabled:hover {\n",
              "    background-color: var(--disabled-bg-color);\n",
              "    fill: var(--disabled-fill-color);\n",
              "    box-shadow: none;\n",
              "  }\n",
              "\n",
              "  .colab-df-spinner {\n",
              "    border: 2px solid var(--fill-color);\n",
              "    border-color: transparent;\n",
              "    border-bottom-color: var(--fill-color);\n",
              "    animation:\n",
              "      spin 1s steps(1) infinite;\n",
              "  }\n",
              "\n",
              "  @keyframes spin {\n",
              "    0% {\n",
              "      border-color: transparent;\n",
              "      border-bottom-color: var(--fill-color);\n",
              "      border-left-color: var(--fill-color);\n",
              "    }\n",
              "    20% {\n",
              "      border-color: transparent;\n",
              "      border-left-color: var(--fill-color);\n",
              "      border-top-color: var(--fill-color);\n",
              "    }\n",
              "    30% {\n",
              "      border-color: transparent;\n",
              "      border-left-color: var(--fill-color);\n",
              "      border-top-color: var(--fill-color);\n",
              "      border-right-color: var(--fill-color);\n",
              "    }\n",
              "    40% {\n",
              "      border-color: transparent;\n",
              "      border-right-color: var(--fill-color);\n",
              "      border-top-color: var(--fill-color);\n",
              "    }\n",
              "    60% {\n",
              "      border-color: transparent;\n",
              "      border-right-color: var(--fill-color);\n",
              "    }\n",
              "    80% {\n",
              "      border-color: transparent;\n",
              "      border-right-color: var(--fill-color);\n",
              "      border-bottom-color: var(--fill-color);\n",
              "    }\n",
              "    90% {\n",
              "      border-color: transparent;\n",
              "      border-bottom-color: var(--fill-color);\n",
              "    }\n",
              "  }\n",
              "</style>\n",
              "\n",
              "      <script>\n",
              "        async function quickchart(key) {\n",
              "          const quickchartButtonEl =\n",
              "            document.querySelector('#' + key + ' button');\n",
              "          quickchartButtonEl.disabled = true;  // To prevent multiple clicks.\n",
              "          quickchartButtonEl.classList.add('colab-df-spinner');\n",
              "          try {\n",
              "            const charts = await google.colab.kernel.invokeFunction(\n",
              "                'suggestCharts', [key], {});\n",
              "          } catch (error) {\n",
              "            console.error('Error during call to suggestCharts:', error);\n",
              "          }\n",
              "          quickchartButtonEl.classList.remove('colab-df-spinner');\n",
              "          quickchartButtonEl.classList.add('colab-df-quickchart-complete');\n",
              "        }\n",
              "        (() => {\n",
              "          let quickchartButtonEl =\n",
              "            document.querySelector('#df-a999eaae-35dd-4f7e-9d8b-490562a2881a button');\n",
              "          quickchartButtonEl.style.display =\n",
              "            google.colab.kernel.accessAllowed ? 'block' : 'none';\n",
              "        })();\n",
              "      </script>\n",
              "    </div>\n",
              "\n",
              "    </div>\n",
              "  </div>\n"
            ],
            "application/vnd.google.colaboratory.intrinsic+json": {
              "type": "dataframe",
              "variable_name": "tienda",
              "summary": "{\n  \"name\": \"tienda\",\n  \"rows\": 2359,\n  \"fields\": [\n    {\n      \"column\": \"Producto\",\n      \"properties\": {\n        \"dtype\": \"category\",\n        \"num_unique_values\": 51,\n        \"samples\": [\n          \"Guitarra ac\\u00fastica\",\n          \"Bal\\u00f3n de baloncesto\",\n          \"Smartwatch\"\n        ],\n        \"semantic_type\": \"\",\n        \"description\": \"\"\n      }\n    },\n    {\n      \"column\": \"Categor\\u00eda del Producto\",\n      \"properties\": {\n        \"dtype\": \"category\",\n        \"num_unique_values\": 8,\n        \"samples\": [\n          \"Muebles\",\n          \"Deportes y diversi\\u00f3n\",\n          \"Electr\\u00f3nicos\"\n        ],\n        \"semantic_type\": \"\",\n        \"description\": \"\"\n      }\n    },\n    {\n      \"column\": \"Precio\",\n      \"properties\": {\n        \"dtype\": \"number\",\n        \"std\": 614686.7653873172,\n        \"min\": 7600.0,\n        \"max\": 2977000.0,\n        \"num_unique_values\": 1937,\n        \"samples\": [\n          2499400.0,\n          14800.0,\n          80500.0\n        ],\n        \"semantic_type\": \"\",\n        \"description\": \"\"\n      }\n    },\n    {\n      \"column\": \"Costo de env\\u00edo\",\n      \"properties\": {\n        \"dtype\": \"number\",\n        \"std\": 32860.0017825605,\n        \"min\": 0.0,\n        \"max\": 160800.0,\n        \"num_unique_values\": 753,\n        \"samples\": [\n          117800.0,\n          54700.0,\n          45600.0\n        ],\n        \"semantic_type\": \"\",\n        \"description\": \"\"\n      }\n    },\n    {\n      \"column\": \"Fecha de Compra\",\n      \"properties\": {\n        \"dtype\": \"object\",\n        \"num_unique_values\": 1018,\n        \"samples\": [\n          \"15/09/2022\",\n          \"03/06/2020\",\n          \"06/11/2021\"\n        ],\n        \"semantic_type\": \"\",\n        \"description\": \"\"\n      }\n    },\n    {\n      \"column\": \"Vendedor\",\n      \"properties\": {\n        \"dtype\": \"category\",\n        \"num_unique_values\": 14,\n        \"samples\": [\n          \"Juliana Costa\",\n          \"Mariana Herrera\",\n          \"Pedro Gomez\"\n        ],\n        \"semantic_type\": \"\",\n        \"description\": \"\"\n      }\n    },\n    {\n      \"column\": \"Lugar de Compra\",\n      \"properties\": {\n        \"dtype\": \"category\",\n        \"num_unique_values\": 19,\n        \"samples\": [\n          \"Bogot\\u00e1\",\n          \"Pereira\",\n          \"Neiva\"\n        ],\n        \"semantic_type\": \"\",\n        \"description\": \"\"\n      }\n    },\n    {\n      \"column\": \"Calificaci\\u00f3n\",\n      \"properties\": {\n        \"dtype\": \"number\",\n        \"std\": 1,\n        \"min\": 1,\n        \"max\": 5,\n        \"num_unique_values\": 5,\n        \"samples\": [\n          1,\n          2,\n          5\n        ],\n        \"semantic_type\": \"\",\n        \"description\": \"\"\n      }\n    },\n    {\n      \"column\": \"M\\u00e9todo de pago\",\n      \"properties\": {\n        \"dtype\": \"category\",\n        \"num_unique_values\": 4,\n        \"samples\": [\n          \"Nequi\",\n          \"Tarjeta de d\\u00e9bito\",\n          \"Tarjeta de cr\\u00e9dito\"\n        ],\n        \"semantic_type\": \"\",\n        \"description\": \"\"\n      }\n    },\n    {\n      \"column\": \"Cantidad de cuotas\",\n      \"properties\": {\n        \"dtype\": \"number\",\n        \"std\": 2,\n        \"min\": 1,\n        \"max\": 24,\n        \"num_unique_values\": 15,\n        \"samples\": [\n          7,\n          14,\n          8\n        ],\n        \"semantic_type\": \"\",\n        \"description\": \"\"\n      }\n    },\n    {\n      \"column\": \"lat\",\n      \"properties\": {\n        \"dtype\": \"number\",\n        \"std\": 2.2874452492678627,\n        \"min\": -4.21528,\n        \"max\": 11.54444,\n        \"num_unique_values\": 19,\n        \"samples\": [\n          4.60971,\n          4.81333,\n          2.9273\n        ],\n        \"semantic_type\": \"\",\n        \"description\": \"\"\n      }\n    },\n    {\n      \"column\": \"lon\",\n      \"properties\": {\n        \"dtype\": \"number\",\n        \"std\": 1.2178272727088486,\n        \"min\": -77.28111,\n        \"max\": -67.9239,\n        \"num_unique_values\": 19,\n        \"samples\": [\n          -74.08175,\n          -75.69611,\n          -75.28189\n        ],\n        \"semantic_type\": \"\",\n        \"description\": \"\"\n      }\n    }\n  ]\n}"
            }
          },
          "metadata": {},
          "execution_count": 1
        }
      ],
      "source": [
        "import pandas as pd\n",
        "\n",
        "url = \"https://raw.githubusercontent.com/alura-es-cursos/challenge1-data-science-latam/refs/heads/main/base-de-datos-challenge1-latam/tienda_1%20.csv\"\n",
        "url2 = \"https://raw.githubusercontent.com/alura-es-cursos/challenge1-data-science-latam/refs/heads/main/base-de-datos-challenge1-latam/tienda_2.csv\"\n",
        "url3 = \"https://raw.githubusercontent.com/alura-es-cursos/challenge1-data-science-latam/refs/heads/main/base-de-datos-challenge1-latam/tienda_3.csv\"\n",
        "url4 = \"https://raw.githubusercontent.com/alura-es-cursos/challenge1-data-science-latam/refs/heads/main/base-de-datos-challenge1-latam/tienda_4.csv\"\n",
        "\n",
        "tienda = pd.read_csv(url)\n",
        "tienda2 = pd.read_csv(url2)\n",
        "tienda3 = pd.read_csv(url3)\n",
        "tienda4 = pd.read_csv(url4)\n",
        "\n",
        "tienda.head()"
      ]
    },
    {
      "cell_type": "markdown",
      "source": [
        "#1. Análisis de facturación\n",
        "\n"
      ],
      "metadata": {
        "id": "X62IW3KFUIYm"
      }
    },
    {
      "cell_type": "code",
      "source": [
        "factTienda = sum(tienda['Precio'])\n",
        "factTienda2 = sum(tienda2['Precio'])\n",
        "factTienda3 = sum(tienda3['Precio'])\n",
        "factTienda4 = sum(tienda4['Precio'])"
      ],
      "metadata": {
        "id": "xykobSftV64I"
      },
      "execution_count": 9,
      "outputs": []
    },
    {
      "cell_type": "code",
      "source": [
        "import matplotlib.pyplot as plt"
      ],
      "metadata": {
        "id": "DNcWah_55EUv"
      },
      "execution_count": 49,
      "outputs": []
    },
    {
      "cell_type": "code",
      "source": [
        "nombres = ['Tienda 1', 'Tienda 2', 'Tienda 3', 'Tienda 4']\n",
        "valores = [factTienda, factTienda2, factTienda3, factTienda4]"
      ],
      "metadata": {
        "id": "1pGaM3RQ5Hto"
      },
      "execution_count": 50,
      "outputs": []
    },
    {
      "cell_type": "code",
      "source": [
        "plt.bar(nombres, valores)\n",
        "plt.title('Facturación por tienda')\n",
        "plt.ylabel('Total ($)')\n",
        "plt.show()"
      ],
      "metadata": {
        "colab": {
          "base_uri": "https://localhost:8080/",
          "height": 453
        },
        "id": "mMtiylzV5KpG",
        "outputId": "fe4eeb5b-e9c8-476e-a1fb-bcc3e3b49bbd"
      },
      "execution_count": 51,
      "outputs": [
        {
          "output_type": "display_data",
          "data": {
            "text/plain": [
              "<Figure size 640x480 with 1 Axes>"
            ],
            "image/png": "[encoded data removed]"
          },
          "metadata": {}
        }
      ]
    },
    {
      "cell_type": "code",
      "source": [
        "print(\"Facturación Tienda 1:\",factTienda)\n",
        "print(\"Facturación Tienda 2:\",factTienda2)\n",
        "print(\"Facturación Tienda 3:\",factTienda3)\n",
        "print(\"Facturación Tienda 4:\",factTienda4)"
      ],
      "metadata": {
        "id": "KDyr8E71V3m-",
        "colab": {
          "base_uri": "https://localhost:8080/"
        },
        "outputId": "6e8bd8e9-57cc-4652-8b42-00318a9a6db1"
      },
      "execution_count": 11,
      "outputs": [
        {
          "output_type": "stream",
          "name": "stdout",
          "text": [
            "Facturación Tienda 1: 1150880400.0\n",
            "Facturación Tienda 2: 1116343500.0\n",
            "Facturación Tienda 3: 1098019600.0\n",
            "Facturación Tienda 4: 1038375700.0\n"
          ]
        }
      ]
    },
    {
      "cell_type": "markdown",
      "source": [
        "# 2. Ventas por categoría"
      ],
      "metadata": {
        "id": "2V_vcAPzWZmR"
      }
    },
    {
      "cell_type": "code",
      "source": [
        "def contar_categorias(df):\n",
        "    categorias = list(set(df['Categoría del Producto']))\n",
        "    ventas = [[categoria, 0] for categoria in categorias]\n",
        "    for categoria in df['Categoría del Producto']:\n",
        "        for item in ventas:\n",
        "            if item[0] == categoria:\n",
        "                item[1] += 1\n",
        "                break\n",
        "    return ventas"
      ],
      "metadata": {
        "id": "A34YupIuYhfF"
      },
      "execution_count": 30,
      "outputs": []
    },
    {
      "cell_type": "code",
      "source": [
        "ventas_tienda1 = contar_categorias(tienda)\n",
        "ventas_tienda2 = contar_categorias(tienda2)\n",
        "ventas_tienda3 = contar_categorias(tienda3)\n",
        "ventas_tienda4 = contar_categorias(tienda4)"
      ],
      "metadata": {
        "id": "Cdc262vW0bj-"
      },
      "execution_count": 31,
      "outputs": []
    },
    {
      "cell_type": "code",
      "source": [
        "ventas_tienda1.sort(key=lambda x: x[1], reverse=True)\n",
        "ventas_tienda2.sort(key=lambda x: x[1], reverse=True)\n",
        "ventas_tienda3.sort(key=lambda x: x[1], reverse=True)\n",
        "ventas_tienda4.sort(key=lambda x: x[1], reverse=True)"
      ],
      "metadata": {
        "id": "vHEaCZCx0eKi"
      },
      "execution_count": 32,
      "outputs": []
    },
    {
      "cell_type": "code",
      "source": [
        "print(\"Tienda 1:\")\n",
        "print(ventas_tienda1)\n",
        "\n",
        "print(\"Tienda 2:\")\n",
        "print(ventas_tienda2)\n",
        "\n",
        "print(\"Tienda 3:\")\n",
        "print(ventas_tienda3)\n",
        "\n",
        "print(\"Tienda 4:\")\n",
        "print(ventas_tienda4)"
      ],
      "metadata": {
        "id": "yZR6cOjXYSk1",
        "colab": {
          "base_uri": "https://localhost:8080/"
        },
        "outputId": "822d5835-3521-4c8b-bbc3-1f921eff7f91"
      },
      "execution_count": 33,
      "outputs": [
        {
          "output_type": "stream",
          "name": "stdout",
          "text": [
            "Tienda 1:\n",
            "[['Muebles', 465], ['Electrónicos', 448], ['Juguetes', 324], ['Electrodomésticos', 312], ['Deportes y diversión', 284], ['Instrumentos musicales', 182], ['Libros', 173], ['Artículos para el hogar', 171]]\n",
            "Tienda 2:\n",
            "[['Muebles', 442], ['Electrónicos', 422], ['Juguetes', 313], ['Electrodomésticos', 305], ['Deportes y diversión', 275], ['Instrumentos musicales', 224], ['Libros', 197], ['Artículos para el hogar', 181]]\n",
            "Tienda 3:\n",
            "[['Muebles', 499], ['Electrónicos', 451], ['Juguetes', 315], ['Electrodomésticos', 278], ['Deportes y diversión', 277], ['Libros', 185], ['Instrumentos musicales', 177], ['Artículos para el hogar', 177]]\n",
            "Tienda 4:\n",
            "[['Muebles', 480], ['Electrónicos', 451], ['Juguetes', 338], ['Deportes y diversión', 277], ['Electrodomésticos', 254], ['Artículos para el hogar', 201], ['Libros', 187], ['Instrumentos musicales', 170]]\n"
          ]
        }
      ]
    },
    {
      "cell_type": "markdown",
      "source": [
        "# 3. Calificación promedio de la tienda\n"
      ],
      "metadata": {
        "id": "Rq6tU_xSY3jk"
      }
    },
    {
      "cell_type": "code",
      "source": [
        "promTienda = sum(tienda['Calificación']) / len(tienda['Calificación'])\n",
        "promTienda2 = sum(tienda2['Calificación']) / len(tienda2['Calificación'])\n",
        "promTienda3 = sum(tienda3['Calificación']) / len(tienda3['Calificación'])\n",
        "promTienda4 = sum(tienda4['Calificación']) / len(tienda4['Calificación'])"
      ],
      "metadata": {
        "id": "bh3jjjJwY5MU"
      },
      "execution_count": 53,
      "outputs": []
    },
    {
      "cell_type": "code",
      "source": [
        "import matplotlib.pyplot as plt\n",
        "\n",
        "tiendas = ['Tienda 1', 'Tienda 2', 'Tienda 3', 'Tienda 4']\n",
        "promedios = [promTienda, promTienda2, promTienda3, promTienda4]\n",
        "\n",
        "plt.bar(tiendas, promedios)\n",
        "plt.ylabel('Calificación promedio')\n",
        "plt.title('Calificación promedio por tienda')\n",
        "plt.ylim(0, 5)\n",
        "plt.show()\n"
      ],
      "metadata": {
        "colab": {
          "base_uri": "https://localhost:8080/",
          "height": 453
        },
        "id": "atERJ0gF6R-3",
        "outputId": "2279e38b-7268-4788-f9c9-9a20d4d1ace4"
      },
      "execution_count": 56,
      "outputs": [
        {
          "output_type": "display_data",
          "data": {
            "text/plain": [
              "<Figure size 640x480 with 1 Axes>"
            ],
            "image/png": "[encoded data removed]"
          },
          "metadata": {}
        }
      ]
    },
    {
      "cell_type": "code",
      "source": [
        "print(\"Tienda 1: \",promTienda)\n",
        "print(\"Tienda 2: \",promTienda2)\n",
        "print(\"Tienda 3: \",promTienda3)\n",
        "print(\"Tienda 4: \",promTienda4)"
      ],
      "metadata": {
        "id": "I0KkjPoTY88F",
        "colab": {
          "base_uri": "https://localhost:8080/"
        },
        "outputId": "c961d129-398e-4366-fe32-f578afaa391e"
      },
      "execution_count": 54,
      "outputs": [
        {
          "output_type": "stream",
          "name": "stdout",
          "text": [
            "Tienda 1:  3.976685036032217\n",
            "Tienda 2:  4.037303942348453\n",
            "Tienda 3:  4.048325561678677\n",
            "Tienda 4:  3.9957591178965224\n"
          ]
        }
      ]
    },
    {
      "cell_type": "markdown",
      "source": [
        "# 4. Productos más y menos vendidos"
      ],
      "metadata": {
        "id": "DmNp1KPBZCm-"
      }
    },
    {
      "cell_type": "code",
      "source": [
        "def contar_productos(df):\n",
        "    productos = list(set(df['Producto']))\n",
        "    ventas = [[producto, 0] for producto in productos]\n",
        "    for producto in df['Producto']:\n",
        "        for item in ventas:\n",
        "            if item[0] == producto:\n",
        "                item[1] += 1\n",
        "                break\n",
        "    return ventas"
      ],
      "metadata": {
        "id": "qoyjqijQZHfF"
      },
      "execution_count": 34,
      "outputs": []
    },
    {
      "cell_type": "code",
      "source": [
        "ventas_tienda1 = contar_productos(tienda)\n",
        "ventas_tienda2 = contar_productos(tienda2)\n",
        "ventas_tienda3 = contar_productos(tienda3)\n",
        "ventas_tienda4 = contar_productos(tienda4)"
      ],
      "metadata": {
        "id": "qZH3QEGG1HeT"
      },
      "execution_count": 35,
      "outputs": []
    },
    {
      "cell_type": "code",
      "source": [
        "ventas_tienda1.sort(key=lambda x: x[1], reverse=True)\n",
        "ventas_tienda2.sort(key=lambda x: x[1], reverse=True)\n",
        "ventas_tienda3.sort(key=lambda x: x[1], reverse=True)\n",
        "ventas_tienda4.sort(key=lambda x: x[1], reverse=True)"
      ],
      "metadata": {
        "id": "vq3JNfQC1eJl"
      },
      "execution_count": 37,
      "outputs": []
    },
    {
      "cell_type": "code",
      "source": [
        "def obtener_top_y_bottom(ventas, n=3):\n",
        "    mas_vendidos = ventas[:n]\n",
        "    menos_vendidos = ventas[-n:]\n",
        "    return mas_vendidos, menos_vendidos"
      ],
      "metadata": {
        "id": "2zuayckD1i8S"
      },
      "execution_count": 38,
      "outputs": []
    },
    {
      "cell_type": "code",
      "source": [
        "top1, bottom1 = obtener_top_y_bottom(ventas_tienda1)\n",
        "top2, bottom2 = obtener_top_y_bottom(ventas_tienda2)\n",
        "top3, bottom3 = obtener_top_y_bottom(ventas_tienda3)\n",
        "top4, bottom4 = obtener_top_y_bottom(ventas_tienda4)"
      ],
      "metadata": {
        "id": "49lioDkX183T"
      },
      "execution_count": 39,
      "outputs": []
    },
    {
      "cell_type": "code",
      "source": [
        "print(\"Tienda 1 - Más vendidos:\", top1)\n",
        "print(\"Tienda 1 - Menos vendidos:\", bottom1)\n",
        "\n",
        "print(\"Tienda 2 - Más vendidos:\", top2)\n",
        "print(\"Tienda 2 - Menos vendidos:\", bottom2)\n",
        "\n",
        "print(\"Tienda 3 - Más vendidos:\", top3)\n",
        "print(\"Tienda 3 - Menos vendidos:\", bottom3)\n",
        "\n",
        "print(\"Tienda 4 - Más vendidos:\", top4)\n",
        "print(\"Tienda 4 - Menos vendidos:\", bottom4)"
      ],
      "metadata": {
        "id": "0Sw3sd4IZIGW",
        "colab": {
          "base_uri": "https://localhost:8080/"
        },
        "outputId": "2fe522fb-9500-45ed-aafb-fc4f5c30a130"
      },
      "execution_count": 41,
      "outputs": [
        {
          "output_type": "stream",
          "name": "stdout",
          "text": [
            "Tienda 1 - Más vendidos: [['Armario', 60], ['Microondas', 60], ['TV LED UHD 4K', 60]]\n",
            "Tienda 1 - Menos vendidos: [['Olla de presión', 35], ['Auriculares con micrófono', 33], ['Celular ABXY', 33]]\n",
            "Tienda 2 - Más vendidos: [['Iniciando en programación', 65], ['Microondas', 62], ['Batería', 61]]\n",
            "Tienda 2 - Menos vendidos: [['Mesa de comedor', 34], ['Impresora', 34], ['Juego de mesa', 32]]\n",
            "Tienda 3 - Más vendidos: [['Kit de bancas', 57], ['Mesa de comedor', 56], ['Cama king', 56]]\n",
            "Tienda 3 - Menos vendidos: [['Mochila', 36], ['Microondas', 36], ['Bloques de construcción', 35]]\n",
            "Tienda 4 - Más vendidos: [['Cama box', 62], ['Cubertería', 59], ['Dashboards con Power BI', 56]]\n",
            "Tienda 4 - Menos vendidos: [['Guitarra acústica', 37], ['Armario', 34], ['Guitarra eléctrica', 33]]\n"
          ]
        }
      ]
    },
    {
      "cell_type": "markdown",
      "source": [
        "# 5. Envío promedio por tienda"
      ],
      "metadata": {
        "id": "Fl0cGi3bZKqU"
      }
    },
    {
      "cell_type": "code",
      "source": [
        "envioTienda = sum(tienda['Costo de envío']) / len(tienda['Costo de envío'])\n",
        "envioTienda2 = sum(tienda2['Costo de envío']) / len(tienda2['Costo de envío'])\n",
        "envioTienda3 = sum(tienda3['Costo de envío']) / len(tienda3['Costo de envío'])\n",
        "envioTienda4 = sum(tienda4['Costo de envío']) / len(tienda4['Costo de envío'])"
      ],
      "metadata": {
        "id": "S2JeaCykZNy9"
      },
      "execution_count": 57,
      "outputs": []
    },
    {
      "cell_type": "code",
      "source": [
        "import matplotlib.pyplot as plt\n",
        "\n",
        "tiendas = ['Tienda 1', 'Tienda 2', 'Tienda 3', 'Tienda 4']\n",
        "envios = [envioTienda, envioTienda2, envioTienda3, envioTienda4]\n",
        "\n",
        "plt.bar(tiendas, envios)\n",
        "plt.ylabel('Costo de envío promedio ($)')\n",
        "plt.title('Costo de envío promedio por tienda')\n",
        "plt.show()\n"
      ],
      "metadata": {
        "colab": {
          "base_uri": "https://localhost:8080/",
          "height": 453
        },
        "id": "_Fd3G4YY6h_p",
        "outputId": "15f54501-1d32-4241-a436-6bc0fabf38b9"
      },
      "execution_count": 60,
      "outputs": [
        {
          "output_type": "display_data",
          "data": {
            "text/plain": [
              "<Figure size 640x480 with 1 Axes>"
            ],
            "image/png": "[encoded data removed]"
          },
          "metadata": {}
        }
      ]
    },
    {
      "cell_type": "code",
      "source": [
        "print(\"Tienda 1: \",envioTienda)\n",
        "print(\"Tienda 2: \",envioTienda2)\n",
        "print(\"Tienda 3: \",envioTienda3)\n",
        "print(\"Tienda 4: \",envioTienda4)"
      ],
      "metadata": {
        "id": "0tSdCie9ZQlt",
        "colab": {
          "base_uri": "https://localhost:8080/"
        },
        "outputId": "10d3ab4a-16a2-4caf-d268-b90ddd2a6014"
      },
      "execution_count": 58,
      "outputs": [
        {
          "output_type": "stream",
          "name": "stdout",
          "text": [
            "Tienda 1:  26018.60958033065\n",
            "Tienda 2:  25216.235693090293\n",
            "Tienda 3:  24805.680373039424\n",
            "Tienda 4:  23459.457167090754\n"
          ]
        }
      ]
    },
    {
      "cell_type": "markdown",
      "source": [
        "# Identificación de la Tienda Menos Eficiente y Recomendación para el Sr. Juan\n",
        "\n",
        "## Introducción\n",
        "\n",
        "El objetivo de este análisis es identificar cuál de las cuatro tiendas del Sr. Juan es la menos eficiente, utilizando métricas clave como ingresos totales, ventas por categoría, calificaciones promedio de clientes, productos más y menos vendidos, y costo promedio de envío. Con base en esta evaluación, se presenta una recomendación final para optimizar el portafolio de tiendas del Sr. Juan.\n",
        "\n",
        "## Desarrollo\n",
        "\n",
        "### 1. Ingresos Totales\n",
        "\n",
        "Los ingresos son un indicador directo del desempeño comercial. Las tiendas presentan los siguientes ingresos:\n",
        "\n",
        "* Tienda 1: \\$1,150,880,400\n",
        "* Tienda 2: \\$1,116,343,500\n",
        "* Tienda 3: \\$1,098,019,600\n",
        "* Tienda 4: \\$1,038,375,700\n",
        "\n",
        "La Tienda 4 muestra el ingreso más bajo, lo que indica menor generación de ventas.\n",
        "![descarga.png](data:image/png;base64,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)\n",
        "\n",
        "### 2. Ventas por Categoría\n",
        "\n",
        "Se presentan las ventas por categoría en cada tienda (cantidad de productos vendidos):\n",
        "\n",
        "* **Tienda 1:**\n",
        "\n",
        "  * Muebles: 465\n",
        "  * Electrónicos: 448\n",
        "  * Juguetes: 324\n",
        "  * Electrodomésticos: 312\n",
        "  * Deportes y diversión: 284\n",
        "  * Instrumentos musicales: 182\n",
        "  * Libros: 173\n",
        "  * Artículos para el hogar: 171\n",
        "\n",
        "* **Tienda 2:**\n",
        "\n",
        "  * Muebles: 442\n",
        "  * Electrónicos: 422\n",
        "  * Juguetes: 313\n",
        "  * Electrodomésticos: 305\n",
        "  * Deportes y diversión: 275\n",
        "  * Instrumentos musicales: 224\n",
        "  * Libros: 197\n",
        "  * Artículos para el hogar: 181\n",
        "\n",
        "* **Tienda 3:**\n",
        "\n",
        "  * Muebles: 499\n",
        "  * Electrónicos: 451\n",
        "  * Juguetes: 315\n",
        "  * Electrodomésticos: 278\n",
        "  * Deportes y diversión: 277\n",
        "  * Libros: 185\n",
        "  * Instrumentos musicales: 177\n",
        "  * Artículos para el hogar: 177\n",
        "\n",
        "* **Tienda 4:**\n",
        "\n",
        "  * Muebles: 480\n",
        "  * Electrónicos: 451\n",
        "  * Juguetes: 338\n",
        "  * Deportes y diversión: 277\n",
        "  * Electrodomésticos: 254\n",
        "  * Artículos para el hogar: 201\n",
        "  * Libros: 187\n",
        "  * Instrumentos musicales: 170\n",
        "\n",
        "Aunque la Tienda 4 tiene cantidades similares en algunas categorías, sus ventas son consistentemente menores en categorías clave como Electrodomésticos y Deportes y diversión, respecto a las otras tiendas, lo que contribuye a su menor ingreso total.\n",
        "\n",
        "### 3. Productos Más y Menos Vendidos\n",
        "\n",
        "Analizando los productos específicos más y menos vendidos en cada tienda, observamos:\n",
        "\n",
        "* **Tienda 1:**\n",
        "\n",
        "  * Más vendidos: Armario (60), Microondas (60), TV LED UHD 4K (60)\n",
        "  * Menos vendidos: Olla de presión (35), Auriculares con micrófono (33), Celular ABXY (33)\n",
        "\n",
        "* **Tienda 2:**\n",
        "\n",
        "  * Más vendidos: Iniciando en programación (65), Microondas (62), Batería (61)\n",
        "  * Menos vendidos: Mesa de comedor (34), Impresora (34), Juego de mesa (32)\n",
        "\n",
        "* **Tienda 3:**\n",
        "\n",
        "  * Más vendidos: Kit de bancas (57), Mesa de comedor (56), Cama king (56)\n",
        "  * Menos vendidos: Mochila (36), Microondas (36), Bloques de construcción (35)\n",
        "\n",
        "* **Tienda 4:**\n",
        "\n",
        "  * Más vendidos: Cama box (62), Cubertería (59), Dashboards con Power BI (56)\n",
        "  * Menos vendidos: Guitarra acústica (37), Armario (34), Guitarra eléctrica (33)\n",
        "\n",
        "La Tienda 4 no destaca en la rotación de productos, con un volumen menor en los productos más vendidos, y mantiene productos con bajas ventas que podrían indicar menor atractivo para los clientes o falta de ajuste en el inventario.\n",
        "\n",
        "### 4. Calificaciones Promedio\n",
        "\n",
        "Las calificaciones promedio de clientes, que reflejan satisfacción y experiencia, son:\n",
        "\n",
        "* Tienda 1: 3.98\n",
        "* Tienda 2: 4.04\n",
        "* Tienda 3: 4.05\n",
        "* Tienda 4: 4.00\n",
        "\n",
        "Aunque la Tienda 4 no es la peor en calificación, su rendimiento comercial no está alineado con un buen desempeño global.\n",
        "\n",
        "![descarga (1).png](data:image/png;base64,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)\n",
        "\n",
        "### 5. Costo de Envío Promedio\n",
        "\n",
        "El costo promedio de envío, que puede afectar la decisión de compra y la rentabilidad, es el siguiente:\n",
        "\n",
        "* Tienda 1: \\$26,018.61\n",
        "* Tienda 2: \\$25,216.24\n",
        "* Tienda 3: \\$24,805.68\n",
        "* Tienda 4: \\$23,459.46\n",
        "\n",
        "La Tienda 4 ofrece el costo de envío más bajo, un aspecto positivo para los clientes sensibles a este gasto. Sin embargo, este beneficio no compensa sus menores ingresos y menor volumen de ventas.\n",
        "\n",
        "![descarga (2).png](data:image/png;base64,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)\n",
        "\n",
        "## Conclusión y Recomendación\n",
        "\n",
        "Luego de evaluar los ingresos, ventas por categoría, rotación de productos, calificaciones y costos de envío, la **Tienda 4** se identifica como la menos eficiente. Presenta los ingresos más bajos, menor rotación en categorías y productos clave, y aunque tiene el costo de envío más competitivo, esto no equilibra su bajo desempeño comercial.\n",
        "\n",
        "Por ello, se recomienda que el Sr. Juan **venda la Tienda 4**, permitiendo concentrar esfuerzos y recursos en las tres tiendas restantes que ofrecen mayor rentabilidad y oportunidades de crecimiento.\n",
        "\n"
      ],
      "metadata": {
        "id": "xa2OFj8G7HWD"
      }
    }
  ]
}